{
 "cells": [
  {
   "cell_type": "code",
   "execution_count": null,
   "id": "0ccaf0a2-e7c1-44b8-9407-3b7b357411cd",
   "metadata": {},
   "outputs": [],
   "source": [
    "import csv\n",
    "import os"
   ]
  },
  {
   "cell_type": "code",
   "execution_count": null,
   "id": "2579cbd8-5d91-4fcd-801c-c57593a16f6b",
   "metadata": {},
   "outputs": [],
   "source": [
    "project_dir = os.getcwd()\n",
    "resource_dir = os.path.join(project_dir, \"resources\")\n",
    "print(resource_dir)"
   ]
  },
  {
   "cell_type": "code",
   "execution_count": null,
   "id": "1b0b0457-2f64-42d3-82d2-2f4bb4b8c4e3",
   "metadata": {},
   "outputs": [],
   "source": [
    "directories = []\n",
    "records_data = []\n",
    "\n",
    "skip_directory = {\"vendor\", \"client\"}\n",
    "\n",
    "for entry in os.listdir(resource_dir):\n",
    "    entry_path = os.path.join(resource_dir, entry)\n",
    "    if os.path.isdir(entry_path) and entry not in skip_directory:\n",
    "                directories.append(os.path.abspath(entry_path))\n",
    "for directory in directories:\n",
    "    for item in os.listdir(directory):\n",
    "        if item.lower().endswith('.csv'):\n",
    "            records_data.append(f\"{directory}/{item}\")\n"
   ]
  },
  {
   "cell_type": "code",
   "execution_count": null,
   "id": "144a7064-2266-4c4b-80e6-4c10aaf2d64b",
   "metadata": {},
   "outputs": [],
   "source": [
    "csv_label = ['RBUKRS', 'GJAHR', 'BELNR', 'DOCLN', 'RACCT', 'HSL', 'BUDAT', 'BLDAT', 'FISCYEARPER', 'BSCHL', 'KUNNR', 'LIFNR']\n",
    "\n",
    "for record in records_data:\n",
    "    temp_file_path = record + '.tmp'\n",
    "    with open(record, mode='r', newline='', encoding='utf-8') as infile, \\\n",
    "         open(temp_file_path, mode='w', newline='', encoding='utf-8') as outfile:\n",
    "        \n",
    "        reader = csv.reader(infile, delimiter='|')\n",
    "        writer = csv.writer(outfile, delimiter='|', quoting=csv.QUOTE_MINIMAL)\n",
    "\n",
    "        writer.writerow(csv_label)\n",
    "        \n",
    "        for row in reader:\n",
    "            cleaned_row = [cell.strip() for cell in row if cell.strip()]\n",
    "            if cleaned_row:  # only write non-empty rows\n",
    "                writer.writerow(cleaned_row)\n",
    "    \n",
    "    os.replace(temp_file_path, record)\n"
   ]
  },
  {
   "cell_type": "code",
   "execution_count": null,
   "id": "7a2aa401-b9ff-4f5b-843f-3ac525520efa",
   "metadata": {},
   "outputs": [],
   "source": []
  }
 ],
 "metadata": {
  "kernelspec": {
   "display_name": "Python [conda env:base] *",
   "language": "python",
   "name": "conda-base-py"
  },
  "language_info": {
   "codemirror_mode": {
    "name": "ipython",
    "version": 3
   },
   "file_extension": ".py",
   "mimetype": "text/x-python",
   "name": "python",
   "nbconvert_exporter": "python",
   "pygments_lexer": "ipython3",
   "version": "3.12.7"
  }
 },
 "nbformat": 4,
 "nbformat_minor": 5
}
